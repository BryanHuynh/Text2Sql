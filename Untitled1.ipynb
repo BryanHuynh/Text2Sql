{
 "cells": [
  {
   "cell_type": "code",
   "execution_count": 41,
   "id": "934cc9d7-572d-4010-9257-55bae6bc6e4b",
   "metadata": {},
   "outputs": [],
   "source": [
    "from transformers import T5Tokenizer, T5ForConditionalGeneration\n",
    "\n",
    "# Load the fine-tuned model and tokenizer\n",
    "model = T5ForConditionalGeneration.from_pretrained(\"./fine_tuned_t5_sql\")  # Path to your saved model\n",
    "tokenizer = T5Tokenizer.from_pretrained(\"./fine_tuned_t5_sql\")"
   ]
  },
  {
   "cell_type": "code",
   "execution_count": 42,
   "id": "714391b1-59e1-4c43-93cc-4dddd5d9ae14",
   "metadata": {},
   "outputs": [],
   "source": [
    "question = 'What is the born_state of the head whos department has more than 100 num_employees'\n",
    "schema = \"{'department': ['Department_ID', 'Name', 'Creation', 'Ranking', 'Budget_in_Billions', 'Num_Employees'], 'head': ['head_ID', 'name', 'born_state', 'age'], 'management': ['department_ID', 'head_ID', 'temporary_acting']}\"\n",
    "sample_input =  f\"Given the following SQL Schema: {schema}. Provide a SQL query reponse for: {question}\"\n",
    "\n",
    "input_ids = tokenizer.encode(\n",
    "    sample_input,\n",
    "    max_length=512,           # Ensure this matches the training max_length\n",
    "    truncation=True,          # Truncate input if it's too long\n",
    "    return_tensors=\"pt\"       # Return as PyTorch tensors\n",
    ")\n",
    "\n",
    "model.eval()  # Set model to evaluation mode\n",
    "output_ids = model.generate(\n",
    "    input_ids,\n",
    "    max_length=128,           # Set max_length for the output\n",
    "    num_beams=5,              # Beam search for better results (can adjust as needed)\n",
    "    temperature=1.0,          # Adjust temperature for randomness in output\n",
    "    repetition_penalty=2.5,   # Penalize repetition\n",
    "    early_stopping=True       # Stop early if the output sequence is complete\n",
    ")"
   ]
  },
  {
   "cell_type": "code",
   "execution_count": 43,
   "id": "7b75ac86-c040-4704-af57-db3821c7a659",
   "metadata": {},
   "outputs": [
    {
     "name": "stdout",
     "output_type": "stream",
     "text": [
      "Input: Given the following SQL Schema: {'department': ['Department_ID', 'Name', 'Creation', 'Ranking', 'Budget_in_Billions', 'Num_Employees'], 'head': ['head_ID', 'name', 'born_state', 'age'], 'management': ['department_ID', 'head_ID', 'temporary_acting']}. Provide a SQL query reponse for: What is the born_state of the head whos department has more than 100 num_employees\n",
      "Generated SQL Query: SELECT born_state FROM head WHERE department_id > 100 GROUP BY born_state HAVING count(*) > 100\n"
     ]
    }
   ],
   "source": [
    "output_text = tokenizer.decode(output_ids[0], skip_special_tokens=True)\n",
    "\n",
    "print(\"Input:\", sample_input)\n",
    "print(\"Generated SQL Query:\", output_text)\n"
   ]
  }
 ],
 "metadata": {
  "kernelspec": {
   "display_name": "Python 3 (ipykernel)",
   "language": "python",
   "name": "python3"
  },
  "language_info": {
   "codemirror_mode": {
    "name": "ipython",
    "version": 3
   },
   "file_extension": ".py",
   "mimetype": "text/x-python",
   "name": "python",
   "nbconvert_exporter": "python",
   "pygments_lexer": "ipython3",
   "version": "3.12.3"
  }
 },
 "nbformat": 4,
 "nbformat_minor": 5
}
